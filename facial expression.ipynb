{
 "cells": [
  {
   "cell_type": "code",
   "execution_count": 1,
   "id": "6b67d111",
   "metadata": {},
   "outputs": [],
   "source": [
    "import numpy as np # linear algebra\n",
    "import pandas as pd # data processing, CSV file I/O (e.g. pd.read_csv)\n",
    "\n",
    "from keras.utils import to_categorical\n",
    "from keras.callbacks import EarlyStopping\n",
    "from keras.models import Sequential\n",
    "from keras.layers import Dense, Dropout, Activation, Flatten\n",
    "from keras.layers import Conv2D, MaxPooling2D, BatchNormalization\n",
    "from keras.losses import categorical_crossentropy\n",
    "from sklearn.metrics import accuracy_score\n",
    "from keras.optimizers import Adam\n",
    "from keras.regularizers import l2\n",
    "from keras.preprocessing.image import ImageDataGenerator\n",
    "from sklearn.metrics import classification_report, confusion_matrix\n",
    "import matplotlib.pyplot as plt\n",
    "import seaborn as sns"
   ]
  },
  {
   "cell_type": "code",
   "execution_count": 16,
   "id": "5d5ae7d9",
   "metadata": {},
   "outputs": [
    {
     "data": {
      "text/html": [
       "<div>\n",
       "<style scoped>\n",
       "    .dataframe tbody tr th:only-of-type {\n",
       "        vertical-align: middle;\n",
       "    }\n",
       "\n",
       "    .dataframe tbody tr th {\n",
       "        vertical-align: top;\n",
       "    }\n",
       "\n",
       "    .dataframe thead th {\n",
       "        text-align: right;\n",
       "    }\n",
       "</style>\n",
       "<table border=\"1\" class=\"dataframe\">\n",
       "  <thead>\n",
       "    <tr style=\"text-align: right;\">\n",
       "      <th></th>\n",
       "      <th>emotion</th>\n",
       "      <th>pixels</th>\n",
       "      <th>Usage</th>\n",
       "    </tr>\n",
       "  </thead>\n",
       "  <tbody>\n",
       "    <tr>\n",
       "      <th>0</th>\n",
       "      <td>0</td>\n",
       "      <td>70 80 82 72 58 58 60 63 54 58 60 48 89 115 121...</td>\n",
       "      <td>Training</td>\n",
       "    </tr>\n",
       "    <tr>\n",
       "      <th>1</th>\n",
       "      <td>0</td>\n",
       "      <td>151 150 147 155 148 133 111 140 170 174 182 15...</td>\n",
       "      <td>Training</td>\n",
       "    </tr>\n",
       "    <tr>\n",
       "      <th>2</th>\n",
       "      <td>2</td>\n",
       "      <td>231 212 156 164 174 138 161 173 182 200 106 38...</td>\n",
       "      <td>Training</td>\n",
       "    </tr>\n",
       "    <tr>\n",
       "      <th>3</th>\n",
       "      <td>4</td>\n",
       "      <td>24 32 36 30 32 23 19 20 30 41 21 22 32 34 21 1...</td>\n",
       "      <td>Training</td>\n",
       "    </tr>\n",
       "    <tr>\n",
       "      <th>4</th>\n",
       "      <td>6</td>\n",
       "      <td>4 0 0 0 0 0 0 0 0 0 0 0 3 15 23 28 48 50 58 84...</td>\n",
       "      <td>Training</td>\n",
       "    </tr>\n",
       "    <tr>\n",
       "      <th>...</th>\n",
       "      <td>...</td>\n",
       "      <td>...</td>\n",
       "      <td>...</td>\n",
       "    </tr>\n",
       "    <tr>\n",
       "      <th>35882</th>\n",
       "      <td>6</td>\n",
       "      <td>50 36 17 22 23 29 33 39 34 37 37 37 39 43 48 5...</td>\n",
       "      <td>PrivateTest</td>\n",
       "    </tr>\n",
       "    <tr>\n",
       "      <th>35883</th>\n",
       "      <td>3</td>\n",
       "      <td>178 174 172 173 181 188 191 194 196 199 200 20...</td>\n",
       "      <td>PrivateTest</td>\n",
       "    </tr>\n",
       "    <tr>\n",
       "      <th>35884</th>\n",
       "      <td>0</td>\n",
       "      <td>17 17 16 23 28 22 19 17 25 26 20 24 31 19 27 9...</td>\n",
       "      <td>PrivateTest</td>\n",
       "    </tr>\n",
       "    <tr>\n",
       "      <th>35885</th>\n",
       "      <td>3</td>\n",
       "      <td>30 28 28 29 31 30 42 68 79 81 77 67 67 71 63 6...</td>\n",
       "      <td>PrivateTest</td>\n",
       "    </tr>\n",
       "    <tr>\n",
       "      <th>35886</th>\n",
       "      <td>2</td>\n",
       "      <td>19 13 14 12 13 16 21 33 50 57 71 84 97 108 122...</td>\n",
       "      <td>PrivateTest</td>\n",
       "    </tr>\n",
       "  </tbody>\n",
       "</table>\n",
       "<p>35887 rows × 3 columns</p>\n",
       "</div>"
      ],
      "text/plain": [
       "       emotion                                             pixels        Usage\n",
       "0            0  70 80 82 72 58 58 60 63 54 58 60 48 89 115 121...     Training\n",
       "1            0  151 150 147 155 148 133 111 140 170 174 182 15...     Training\n",
       "2            2  231 212 156 164 174 138 161 173 182 200 106 38...     Training\n",
       "3            4  24 32 36 30 32 23 19 20 30 41 21 22 32 34 21 1...     Training\n",
       "4            6  4 0 0 0 0 0 0 0 0 0 0 0 3 15 23 28 48 50 58 84...     Training\n",
       "...        ...                                                ...          ...\n",
       "35882        6  50 36 17 22 23 29 33 39 34 37 37 37 39 43 48 5...  PrivateTest\n",
       "35883        3  178 174 172 173 181 188 191 194 196 199 200 20...  PrivateTest\n",
       "35884        0  17 17 16 23 28 22 19 17 25 26 20 24 31 19 27 9...  PrivateTest\n",
       "35885        3  30 28 28 29 31 30 42 68 79 81 77 67 67 71 63 6...  PrivateTest\n",
       "35886        2  19 13 14 12 13 16 21 33 50 57 71 84 97 108 122...  PrivateTest\n",
       "\n",
       "[35887 rows x 3 columns]"
      ]
     },
     "execution_count": 16,
     "metadata": {},
     "output_type": "execute_result"
    }
   ],
   "source": [
    "data = pd.read_csv('fer2013.csv')\n",
    "data"
   ]
  },
  {
   "cell_type": "code",
   "execution_count": 17,
   "id": "6da70719",
   "metadata": {},
   "outputs": [
    {
     "data": {
      "text/plain": [
       "(35887, 3)"
      ]
     },
     "execution_count": 17,
     "metadata": {},
     "output_type": "execute_result"
    }
   ],
   "source": [
    "data.shape"
   ]
  },
  {
   "cell_type": "code",
   "execution_count": 18,
   "id": "8505edae",
   "metadata": {},
   "outputs": [
    {
     "data": {
      "text/html": [
       "<div>\n",
       "<style scoped>\n",
       "    .dataframe tbody tr th:only-of-type {\n",
       "        vertical-align: middle;\n",
       "    }\n",
       "\n",
       "    .dataframe tbody tr th {\n",
       "        vertical-align: top;\n",
       "    }\n",
       "\n",
       "    .dataframe thead th {\n",
       "        text-align: right;\n",
       "    }\n",
       "</style>\n",
       "<table border=\"1\" class=\"dataframe\">\n",
       "  <thead>\n",
       "    <tr style=\"text-align: right;\">\n",
       "      <th></th>\n",
       "      <th>emotion</th>\n",
       "      <th>pixels</th>\n",
       "      <th>Usage</th>\n",
       "    </tr>\n",
       "  </thead>\n",
       "  <tbody>\n",
       "    <tr>\n",
       "      <th>0</th>\n",
       "      <td>0</td>\n",
       "      <td>70 80 82 72 58 58 60 63 54 58 60 48 89 115 121...</td>\n",
       "      <td>Training</td>\n",
       "    </tr>\n",
       "    <tr>\n",
       "      <th>1</th>\n",
       "      <td>0</td>\n",
       "      <td>151 150 147 155 148 133 111 140 170 174 182 15...</td>\n",
       "      <td>Training</td>\n",
       "    </tr>\n",
       "    <tr>\n",
       "      <th>2</th>\n",
       "      <td>2</td>\n",
       "      <td>231 212 156 164 174 138 161 173 182 200 106 38...</td>\n",
       "      <td>Training</td>\n",
       "    </tr>\n",
       "    <tr>\n",
       "      <th>3</th>\n",
       "      <td>4</td>\n",
       "      <td>24 32 36 30 32 23 19 20 30 41 21 22 32 34 21 1...</td>\n",
       "      <td>Training</td>\n",
       "    </tr>\n",
       "    <tr>\n",
       "      <th>4</th>\n",
       "      <td>6</td>\n",
       "      <td>4 0 0 0 0 0 0 0 0 0 0 0 3 15 23 28 48 50 58 84...</td>\n",
       "      <td>Training</td>\n",
       "    </tr>\n",
       "  </tbody>\n",
       "</table>\n",
       "</div>"
      ],
      "text/plain": [
       "   emotion                                             pixels     Usage\n",
       "0        0  70 80 82 72 58 58 60 63 54 58 60 48 89 115 121...  Training\n",
       "1        0  151 150 147 155 148 133 111 140 170 174 182 15...  Training\n",
       "2        2  231 212 156 164 174 138 161 173 182 200 106 38...  Training\n",
       "3        4  24 32 36 30 32 23 19 20 30 41 21 22 32 34 21 1...  Training\n",
       "4        6  4 0 0 0 0 0 0 0 0 0 0 0 3 15 23 28 48 50 58 84...  Training"
      ]
     },
     "execution_count": 18,
     "metadata": {},
     "output_type": "execute_result"
    }
   ],
   "source": [
    "#preview first 5 row of data\n",
    "data.head(5)"
   ]
  },
  {
   "cell_type": "code",
   "execution_count": 19,
   "id": "0d8ac83e",
   "metadata": {},
   "outputs": [
    {
     "data": {
      "text/plain": [
       "Training       28709\n",
       "PublicTest      3589\n",
       "PrivateTest     3589\n",
       "Name: Usage, dtype: int64"
      ]
     },
     "execution_count": 19,
     "metadata": {},
     "output_type": "execute_result"
    }
   ],
   "source": [
    "#check usage values\n",
    "#80% training, 10% validation and 10% test\n",
    "data.Usage.value_counts()"
   ]
  },
  {
   "cell_type": "code",
   "execution_count": 20,
   "id": "15400bfd",
   "metadata": {},
   "outputs": [
    {
     "data": {
      "text/html": [
       "<div>\n",
       "<style scoped>\n",
       "    .dataframe tbody tr th:only-of-type {\n",
       "        vertical-align: middle;\n",
       "    }\n",
       "\n",
       "    .dataframe tbody tr th {\n",
       "        vertical-align: top;\n",
       "    }\n",
       "\n",
       "    .dataframe thead th {\n",
       "        text-align: right;\n",
       "    }\n",
       "</style>\n",
       "<table border=\"1\" class=\"dataframe\">\n",
       "  <thead>\n",
       "    <tr style=\"text-align: right;\">\n",
       "      <th></th>\n",
       "      <th>emotion</th>\n",
       "      <th>number</th>\n",
       "    </tr>\n",
       "  </thead>\n",
       "  <tbody>\n",
       "    <tr>\n",
       "      <th>0</th>\n",
       "      <td>Angry</td>\n",
       "      <td>4953</td>\n",
       "    </tr>\n",
       "    <tr>\n",
       "      <th>1</th>\n",
       "      <td>Fear</td>\n",
       "      <td>5121</td>\n",
       "    </tr>\n",
       "    <tr>\n",
       "      <th>2</th>\n",
       "      <td>Sad</td>\n",
       "      <td>6077</td>\n",
       "    </tr>\n",
       "    <tr>\n",
       "      <th>3</th>\n",
       "      <td>Neutral</td>\n",
       "      <td>6198</td>\n",
       "    </tr>\n",
       "    <tr>\n",
       "      <th>4</th>\n",
       "      <td>Happy</td>\n",
       "      <td>8989</td>\n",
       "    </tr>\n",
       "    <tr>\n",
       "      <th>5</th>\n",
       "      <td>Surprise</td>\n",
       "      <td>4002</td>\n",
       "    </tr>\n",
       "    <tr>\n",
       "      <th>6</th>\n",
       "      <td>Digust</td>\n",
       "      <td>547</td>\n",
       "    </tr>\n",
       "  </tbody>\n",
       "</table>\n",
       "</div>"
      ],
      "text/plain": [
       "    emotion  number\n",
       "0     Angry    4953\n",
       "1      Fear    5121\n",
       "2       Sad    6077\n",
       "3   Neutral    6198\n",
       "4     Happy    8989\n",
       "5  Surprise    4002\n",
       "6    Digust     547"
      ]
     },
     "execution_count": 20,
     "metadata": {},
     "output_type": "execute_result"
    }
   ],
   "source": [
    "emotion_map = {0: 'Angry', 1: 'Digust', 2: 'Fear', 3: 'Happy', 4: 'Sad', 5: 'Surprise', 6: 'Neutral'}\n",
    "emotion_counts = data['emotion'].value_counts(sort=False).reset_index()\n",
    "emotion_counts.columns = ['emotion', 'number']\n",
    "emotion_counts['emotion'] = emotion_counts['emotion'].map(emotion_map)\n",
    "emotion_counts"
   ]
  },
  {
   "cell_type": "code",
   "execution_count": 21,
   "id": "275de689",
   "metadata": {},
   "outputs": [
    {
     "name": "stderr",
     "output_type": "stream",
     "text": [
      "D:\\Installed\\Anaconda\\lib\\site-packages\\seaborn\\_decorators.py:36: FutureWarning: Pass the following variables as keyword args: x, y. From version 0.12, the only valid positional argument will be `data`, and passing other arguments without an explicit keyword will result in an error or misinterpretation.\n",
      "  warnings.warn(\n"
     ]
    },
    {
     "data": {
      "image/png": "[encoded data removed]",
      "text/plain": [
       "<Figure size 432x288 with 1 Axes>"
      ]
     },
     "metadata": {
      "needs_background": "light"
     },
     "output_type": "display_data"
    }
   ],
   "source": [
    "# Plotting a bar graph of the class distributions\n",
    "plt.figure(figsize=(6,4))\n",
    "sns.barplot(emotion_counts.emotion, emotion_counts.number)\n",
    "plt.title('Class distribution')\n",
    "plt.ylabel('Number', fontsize=12)\n",
    "plt.xlabel('Emotions', fontsize=12)\n",
    "plt.show()"
   ]
  },
  {
   "cell_type": "code",
   "execution_count": 22,
   "id": "16fdedbe",
   "metadata": {},
   "outputs": [
    {
     "name": "stderr",
     "output_type": "stream",
     "text": [
      "C:\\Users\\Test\\AppData\\Local\\Temp\\ipykernel_27416\\2731323236.py:9: VisibleDeprecationWarning: Creating an ndarray from ragged nested sequences (which is a list-or-tuple of lists-or-tuples-or ndarrays with different lengths or shapes) is deprecated. If you meant to do this, you must specify 'dtype=object' when creating the ndarray.\n",
      "  return np.array([image.astype(np.uint8), emotion])\n"
     ]
    },
    {
     "data": {
      "image/png": "[encoded data removed]",
      "text/plain": [
       "<Figure size 1152x720 with 7 Axes>"
      ]
     },
     "metadata": {
      "needs_background": "light"
     },
     "output_type": "display_data"
    }
   ],
   "source": [
    "def row2image(row):\n",
    "    pixels, emotion = row['pixels'], emotion_map[row['emotion']]\n",
    "    img = np.array(pixels.split())\n",
    "    img = img.reshape(48,48)\n",
    "    image = np.zeros((48,48,3))\n",
    "    image[:,:,0] = img\n",
    "    image[:,:,1] = img\n",
    "    image[:,:,2] = img\n",
    "    return np.array([image.astype(np.uint8), emotion])\n",
    "\n",
    "plt.figure(0, figsize=(16,10))\n",
    "for i in range(1,8):\n",
    "    face = data[data['emotion'] == i-1].iloc[0]\n",
    "    img = row2image(face)\n",
    "    plt.subplot(2,4,i)\n",
    "    plt.imshow(img[0])\n",
    "    plt.title(img[1])\n",
    "\n",
    "plt.show()"
   ]
  },
  {
   "cell_type": "code",
   "execution_count": 23,
   "id": "da4d1f1b",
   "metadata": {},
   "outputs": [],
   "source": [
    "#Pre-processing data\n",
    "#Summary:\n",
    "#Splitting dataset into 3 parts: train, validation, test\n",
    "#Convert strings to lists of integers\n",
    "#Reshape to 48x48 and normalise grayscale image with 255.0\n",
    "#Perform one-hot encoding label, e.g. class 3 to [0,0,0,1,0,0,0]"
   ]
  },
  {
   "cell_type": "code",
   "execution_count": 24,
   "id": "87249934",
   "metadata": {},
   "outputs": [
    {
     "name": "stdout",
     "output_type": "stream",
     "text": [
      "train shape: (28709, 3), \n",
      "validation shape: (3589, 3), \n",
      "test shape: (3589, 3)\n"
     ]
    }
   ],
   "source": [
    "#split data into training, validation and test set\n",
    "data_train = data[data['Usage']=='Training'].copy()\n",
    "data_val   = data[data['Usage']=='PublicTest'].copy()\n",
    "data_test  = data[data['Usage']=='PrivateTest'].copy()\n",
    "print(\"train shape: {}, \\nvalidation shape: {}, \\ntest shape: {}\".format(data_train.shape, data_val.shape, data_test.shape))"
   ]
  },
  {
   "cell_type": "code",
   "execution_count": 25,
   "id": "b23c9d0e",
   "metadata": {},
   "outputs": [
    {
     "data": {
      "image/png": "[encoded data removed]",
      "text/plain": [
       "<Figure size 1440x576 with 3 Axes>"
      ]
     },
     "metadata": {
      "needs_background": "light"
     },
     "output_type": "display_data"
    }
   ],
   "source": [
    "# barplot class distribution of train, val and test\n",
    "emotion_labels = ['Angry', 'Disgust', 'Fear', 'Happy', 'Sad', 'Surprise', 'Neutral']\n",
    "\n",
    "def setup_axe(axe,df,title):\n",
    "    df['emotion'].value_counts(sort=False).plot(ax=axe, kind='bar', rot=0)\n",
    "    axe.set_xticklabels(emotion_labels)\n",
    "    axe.set_xlabel(\"Emotions\")\n",
    "    axe.set_ylabel(\"Number\")\n",
    "    axe.set_title(title)\n",
    "   \n",
    "fig, axes = plt.subplots(1,3, figsize=(20,8), sharey=True)\n",
    "setup_axe(axes[0],data_train,'train')\n",
    "setup_axe(axes[1],data_val,'validation')\n",
    "setup_axe(axes[2],data_test,'test')\n",
    "plt.show()"
   ]
  },
  {
   "cell_type": "code",
   "execution_count": 26,
   "id": "6a6a6936",
   "metadata": {},
   "outputs": [],
   "source": [
    "#Notice that the later two subplots share the same y-axis with the first subplot.\n",
    "\n",
    "#The size of train, validation, test are 80%, 10% and 10%, respectively.\n",
    "\n",
    "#The exact number of each class of these datasets are written on top of their x-axis bar."
   ]
  },
  {
   "cell_type": "code",
   "execution_count": 27,
   "id": "4b472b3d",
   "metadata": {},
   "outputs": [],
   "source": [
    "#initilize parameters\n",
    "num_classes = 7 \n",
    "width, height = 48, 48\n",
    "num_epochs = 50\n",
    "batch_size = 64\n",
    "num_features = 64"
   ]
  },
  {
   "cell_type": "code",
   "execution_count": 28,
   "id": "21a9abf4",
   "metadata": {},
   "outputs": [
    {
     "name": "stdout",
     "output_type": "stream",
     "text": [
      "train _X shape: {},  train _Y shape: (28709, 48, 48, 1)\n",
      "val _X shape: {},  val _Y shape: (3589, 48, 48, 1)\n",
      "test _X shape: {},  test _Y shape: (3589, 48, 48, 1)\n"
     ]
    }
   ],
   "source": [
    "# CRNO stands for Convert, Reshape, Normalize, One-hot encoding\n",
    "# (i) convert strings to lists of integers\n",
    "# (ii) reshape and normalise grayscale image with 255.0\n",
    "# (iii) one-hot encoding label, e.g. class 3 to [0,0,0,1,0,0,0]\n",
    "\n",
    "def CRNO(df, dataName):\n",
    "    df['pixels'] = df['pixels'].apply(lambda pixel_sequence: [int(pixel) for pixel in pixel_sequence.split()])\n",
    "    data_X = np.array(df['pixels'].tolist(), dtype='float32').reshape(-1,width, height,1)/255.0   \n",
    "    data_Y = to_categorical(df['emotion'], num_classes)  \n",
    "    print(dataName, \"_X shape: {}, \", dataName, \"_Y shape: {}\".format(data_X.shape, data_Y.shape))\n",
    "    return data_X, data_Y\n",
    "\n",
    "    \n",
    "train_X, train_Y = CRNO(data_train, \"train\") #training data\n",
    "val_X, val_Y     = CRNO(data_val, \"val\") #validation data\n",
    "test_X, test_Y   = CRNO(data_test, \"test\") #test data"
   ]
  },
  {
   "cell_type": "code",
   "execution_count": 29,
   "id": "c3b103a7",
   "metadata": {},
   "outputs": [],
   "source": [
    "#Building CNN Model\n",
    "#CNN Architecture:\n",
    "#Conv -> BN -> Activation -> Conv -> BN -> Activation -> MaxPooling\n",
    "#Conv -> BN -> Activation -> Conv -> BN -> Activation -> MaxPooling\n",
    "#Conv -> BN -> Activation -> Conv -> BN -> Activation -> MaxPooling\n",
    "#Flatten\n",
    "#Dense -> BN -> Activation\n",
    "#Dense -> BN -> Activation\n",
    "#Dense -> BN -> Activation\n",
    "#Output layer"
   ]
  },
  {
   "cell_type": "code",
   "execution_count": 31,
   "id": "8421b1b1",
   "metadata": {},
   "outputs": [
    {
     "name": "stdout",
     "output_type": "stream",
     "text": [
      "Model: \"sequential_1\"\n",
      "_________________________________________________________________\n",
      " Layer (type)                Output Shape              Param #   \n",
      "=================================================================\n",
      " conv2d_3 (Conv2D)           (None, 44, 44, 64)        1664      \n",
      "                                                                 \n",
      " batch_normalization_4 (Batc  (None, 44, 44, 64)       256       \n",
      " hNormalization)                                                 \n",
      "                                                                 \n",
      " activation_4 (Activation)   (None, 44, 44, 64)        0         \n",
      "                                                                 \n",
      " max_pooling2d_3 (MaxPooling  (None, 22, 22, 64)       0         \n",
      " 2D)                                                             \n",
      "                                                                 \n",
      " conv2d_4 (Conv2D)           (None, 18, 18, 128)       204928    \n",
      "                                                                 \n",
      " batch_normalization_5 (Batc  (None, 18, 18, 128)      512       \n",
      " hNormalization)                                                 \n",
      "                                                                 \n",
      " activation_5 (Activation)   (None, 18, 18, 128)       0         \n",
      "                                                                 \n",
      " max_pooling2d_4 (MaxPooling  (None, 9, 9, 128)        0         \n",
      " 2D)                                                             \n",
      "                                                                 \n",
      " conv2d_5 (Conv2D)           (None, 7, 7, 256)         295168    \n",
      "                                                                 \n",
      " batch_normalization_6 (Batc  (None, 7, 7, 256)        1024      \n",
      " hNormalization)                                                 \n",
      "                                                                 \n",
      " activation_6 (Activation)   (None, 7, 7, 256)         0         \n",
      "                                                                 \n",
      " max_pooling2d_5 (MaxPooling  (None, 3, 3, 256)        0         \n",
      " 2D)                                                             \n",
      "                                                                 \n",
      " flatten_1 (Flatten)         (None, 2304)              0         \n",
      "                                                                 \n",
      " dense_2 (Dense)             (None, 128)               295040    \n",
      "                                                                 \n",
      " batch_normalization_7 (Batc  (None, 128)              512       \n",
      " hNormalization)                                                 \n",
      "                                                                 \n",
      " activation_7 (Activation)   (None, 128)               0         \n",
      "                                                                 \n",
      " dropout_1 (Dropout)         (None, 128)               0         \n",
      "                                                                 \n",
      " dense_3 (Dense)             (None, 7)                 903       \n",
      "                                                                 \n",
      "=================================================================\n",
      "Total params: 800,007\n",
      "Trainable params: 798,855\n",
      "Non-trainable params: 1,152\n",
      "_________________________________________________________________\n"
     ]
    }
   ],
   "source": [
    "model = Sequential()\n",
    "\n",
    "#Layer 1\n",
    "model.add(Conv2D(num_features, kernel_size=(5, 5), input_shape=(width, height, 1), data_format='channels_last'))\n",
    "model.add(BatchNormalization())\n",
    "model.add(Activation('relu'))\n",
    "#model.add(Conv2D(2*2*num_features, kernel_size=(3, 3), padding='same'))\n",
    "#model.add(BatchNormalization())\n",
    "#model.add(Activation('relu'))\n",
    "model.add(MaxPooling2D(pool_size=(2, 2), strides=(2, 2)))\n",
    "\n",
    "#Layer 2\n",
    "model.add(Conv2D(2*num_features, kernel_size=(5, 5), input_shape=(width, height, 1), data_format='channels_last'))\n",
    "model.add(BatchNormalization())\n",
    "model.add(Activation('relu'))\n",
    "#model.add(Conv2D(2*2*num_features, kernel_size=(3, 3), padding='same'))\n",
    "#model.add(BatchNormalization())\n",
    "#model.add(Activation('relu'))\n",
    "model.add(MaxPooling2D(pool_size=(2, 2), strides=(2, 2)))\n",
    "\n",
    "#Layer 2\n",
    "model.add(Conv2D(2*2*num_features, kernel_size=(3, 3), input_shape=(width, height, 1), data_format='channels_last'))\n",
    "model.add(BatchNormalization())\n",
    "model.add(Activation('relu'))\n",
    "#model.add(Conv2D(2*2*num_features, kernel_size=(3, 3), padding='same'))\n",
    "#model.add(BatchNormalization())\n",
    "#model.add(Activation('relu'))\n",
    "model.add(MaxPooling2D(pool_size=(2, 2), strides=(2, 2)))\n",
    "\n",
    "#flatten\n",
    "model.add(Flatten())\n",
    "\n",
    "#dense 1\n",
    "model.add(Dense(2*num_features))\n",
    "model.add(BatchNormalization())\n",
    "model.add(Activation('relu'))\n",
    "model.add(Dropout(0.5))\n",
    "\n",
    "#output layer\n",
    "model.add(Dense(num_classes,activation='sigmoid'))\n",
    "\n",
    "# Compile model\n",
    "model.compile(optimizer=Adam(),\n",
    "              loss='binary_crossentropy',\n",
    "              metrics=['accuracy'])\n",
    "\n",
    "model.summary()"
   ]
  },
  {
   "cell_type": "code",
   "execution_count": 32,
   "id": "5a94898c",
   "metadata": {},
   "outputs": [],
   "source": [
    "# data generator\n",
    "data_generator = ImageDataGenerator(\n",
    "                        featurewise_center=False,\n",
    "                        featurewise_std_normalization=False,\n",
    "                        rotation_range=10,\n",
    "                        width_shift_range=0.1,\n",
    "                        height_shift_range=0.1,\n",
    "                        zoom_range=.1,\n",
    "                        horizontal_flip=True)"
   ]
  },
  {
   "cell_type": "code",
   "execution_count": 33,
   "id": "8e67f97e",
   "metadata": {},
   "outputs": [
    {
     "name": "stderr",
     "output_type": "stream",
     "text": [
      "C:\\Users\\Test\\AppData\\Local\\Temp\\ipykernel_27416\\4140865401.py:4: UserWarning: `Model.fit_generator` is deprecated and will be removed in a future version. Please use `Model.fit`, which supports generators.\n",
      "  history = model.fit_generator(data_generator.flow(train_X, train_Y, batch_size),\n"
     ]
    },
    {
     "name": "stdout",
     "output_type": "stream",
     "text": [
      "Epoch 1/50\n",
      "448/448 - 166s - loss: 0.4147 - accuracy: 0.2821 - val_loss: 0.4133 - val_accuracy: 0.2544 - 166s/epoch - 370ms/step\n",
      "Epoch 2/50\n",
      "448/448 - 164s - loss: 0.3445 - accuracy: 0.4019 - val_loss: 0.3661 - val_accuracy: 0.3580 - 164s/epoch - 365ms/step\n",
      "Epoch 3/50\n",
      "448/448 - 177s - loss: 0.3175 - accuracy: 0.4616 - val_loss: 0.3309 - val_accuracy: 0.4361 - 177s/epoch - 395ms/step\n",
      "Epoch 4/50\n",
      "448/448 - 207s - loss: 0.3044 - accuracy: 0.4889 - val_loss: 0.2993 - val_accuracy: 0.4909 - 207s/epoch - 461ms/step\n",
      "Epoch 5/50\n",
      "448/448 - 154s - loss: 0.2953 - accuracy: 0.5074 - val_loss: 0.2842 - val_accuracy: 0.5272 - 154s/epoch - 342ms/step\n",
      "Epoch 6/50\n",
      "448/448 - 147s - loss: 0.2865 - accuracy: 0.5270 - val_loss: 0.2830 - val_accuracy: 0.5208 - 147s/epoch - 329ms/step\n",
      "Epoch 7/50\n",
      "448/448 - 147s - loss: 0.2822 - accuracy: 0.5363 - val_loss: 0.3054 - val_accuracy: 0.4795 - 147s/epoch - 328ms/step\n",
      "Epoch 8/50\n",
      "448/448 - 146s - loss: 0.2781 - accuracy: 0.5433 - val_loss: 0.2864 - val_accuracy: 0.5199 - 146s/epoch - 326ms/step\n",
      "Epoch 9/50\n",
      "448/448 - 146s - loss: 0.2740 - accuracy: 0.5494 - val_loss: 0.3059 - val_accuracy: 0.4798 - 146s/epoch - 325ms/step\n",
      "Epoch 10/50\n",
      "448/448 - 149s - loss: 0.2692 - accuracy: 0.5591 - val_loss: 0.2755 - val_accuracy: 0.5391 - 149s/epoch - 332ms/step\n",
      "Epoch 11/50\n",
      "448/448 - 153s - loss: 0.2670 - accuracy: 0.5678 - val_loss: 0.2858 - val_accuracy: 0.5369 - 153s/epoch - 342ms/step\n",
      "Epoch 12/50\n",
      "448/448 - 156s - loss: 0.2645 - accuracy: 0.5711 - val_loss: 0.2782 - val_accuracy: 0.5350 - 156s/epoch - 347ms/step\n",
      "Epoch 13/50\n",
      "448/448 - 152s - loss: 0.2603 - accuracy: 0.5788 - val_loss: 0.2747 - val_accuracy: 0.5339 - 152s/epoch - 338ms/step\n",
      "Epoch 14/50\n",
      "448/448 - 156s - loss: 0.2579 - accuracy: 0.5854 - val_loss: 0.2725 - val_accuracy: 0.5430 - 156s/epoch - 347ms/step\n",
      "Epoch 15/50\n",
      "448/448 - 152s - loss: 0.2554 - accuracy: 0.5892 - val_loss: 0.2672 - val_accuracy: 0.5612 - 152s/epoch - 338ms/step\n",
      "Epoch 16/50\n",
      "448/448 - 150s - loss: 0.2525 - accuracy: 0.5931 - val_loss: 0.2704 - val_accuracy: 0.5433 - 150s/epoch - 334ms/step\n",
      "Epoch 17/50\n",
      "448/448 - 156s - loss: 0.2499 - accuracy: 0.5983 - val_loss: 0.2769 - val_accuracy: 0.5333 - 156s/epoch - 347ms/step\n",
      "Epoch 18/50\n",
      "448/448 - 153s - loss: 0.2474 - accuracy: 0.6035 - val_loss: 0.2631 - val_accuracy: 0.5634 - 153s/epoch - 340ms/step\n",
      "Epoch 19/50\n",
      "448/448 - 154s - loss: 0.2451 - accuracy: 0.6088 - val_loss: 0.2703 - val_accuracy: 0.5481 - 154s/epoch - 344ms/step\n",
      "Epoch 20/50\n",
      "448/448 - 152s - loss: 0.2437 - accuracy: 0.6121 - val_loss: 0.2785 - val_accuracy: 0.5403 - 152s/epoch - 339ms/step\n",
      "Epoch 21/50\n",
      "448/448 - 154s - loss: 0.2405 - accuracy: 0.6156 - val_loss: 0.2644 - val_accuracy: 0.5653 - 154s/epoch - 343ms/step\n",
      "Epoch 22/50\n",
      "448/448 - 150s - loss: 0.2393 - accuracy: 0.6199 - val_loss: 0.2856 - val_accuracy: 0.5247 - 150s/epoch - 334ms/step\n",
      "Epoch 23/50\n",
      "448/448 - 146s - loss: 0.2374 - accuracy: 0.6249 - val_loss: 0.2578 - val_accuracy: 0.5860 - 146s/epoch - 326ms/step\n",
      "Epoch 24/50\n",
      "448/448 - 148s - loss: 0.2348 - accuracy: 0.6267 - val_loss: 0.2943 - val_accuracy: 0.5113 - 148s/epoch - 329ms/step\n",
      "Epoch 25/50\n",
      "448/448 - 146s - loss: 0.2336 - accuracy: 0.6335 - val_loss: 0.2534 - val_accuracy: 0.5910 - 146s/epoch - 325ms/step\n",
      "Epoch 26/50\n",
      "448/448 - 149s - loss: 0.2327 - accuracy: 0.6319 - val_loss: 0.2721 - val_accuracy: 0.5508 - 149s/epoch - 332ms/step\n",
      "Epoch 27/50\n",
      "448/448 - 146s - loss: 0.2305 - accuracy: 0.6380 - val_loss: 0.3188 - val_accuracy: 0.4706 - 146s/epoch - 326ms/step\n",
      "Epoch 28/50\n",
      "448/448 - 146s - loss: 0.2283 - accuracy: 0.6454 - val_loss: 0.2661 - val_accuracy: 0.5598 - 146s/epoch - 325ms/step\n",
      "Epoch 29/50\n",
      "448/448 - 149s - loss: 0.2270 - accuracy: 0.6432 - val_loss: 0.2353 - val_accuracy: 0.6261 - 149s/epoch - 331ms/step\n",
      "Epoch 30/50\n",
      "448/448 - 147s - loss: 0.2259 - accuracy: 0.6455 - val_loss: 0.2610 - val_accuracy: 0.5748 - 147s/epoch - 327ms/step\n",
      "Epoch 31/50\n",
      "448/448 - 151s - loss: 0.2227 - accuracy: 0.6522 - val_loss: 0.2418 - val_accuracy: 0.6188 - 151s/epoch - 337ms/step\n",
      "Epoch 32/50\n",
      "448/448 - 159s - loss: 0.2224 - accuracy: 0.6525 - val_loss: 0.2932 - val_accuracy: 0.5350 - 159s/epoch - 354ms/step\n",
      "Epoch 33/50\n",
      "448/448 - 154s - loss: 0.2208 - accuracy: 0.6536 - val_loss: 0.2579 - val_accuracy: 0.5932 - 154s/epoch - 344ms/step\n",
      "Epoch 34/50\n",
      "448/448 - 149s - loss: 0.2189 - accuracy: 0.6587 - val_loss: 0.2637 - val_accuracy: 0.5843 - 149s/epoch - 333ms/step\n",
      "Epoch 35/50\n",
      "448/448 - 150s - loss: 0.2176 - accuracy: 0.6597 - val_loss: 0.2915 - val_accuracy: 0.5241 - 150s/epoch - 335ms/step\n",
      "Epoch 36/50\n",
      "448/448 - 151s - loss: 0.2163 - accuracy: 0.6650 - val_loss: 0.2696 - val_accuracy: 0.5595 - 151s/epoch - 337ms/step\n",
      "Epoch 37/50\n",
      "448/448 - 150s - loss: 0.2167 - accuracy: 0.6638 - val_loss: 0.2547 - val_accuracy: 0.5868 - 150s/epoch - 335ms/step\n",
      "Epoch 38/50\n",
      "448/448 - 154s - loss: 0.2144 - accuracy: 0.6684 - val_loss: 0.2438 - val_accuracy: 0.6066 - 154s/epoch - 342ms/step\n",
      "Epoch 39/50\n",
      "448/448 - 147s - loss: 0.2131 - accuracy: 0.6719 - val_loss: 0.2775 - val_accuracy: 0.5662 - 147s/epoch - 327ms/step\n"
     ]
    }
   ],
   "source": [
    "# Train model\n",
    "es = EarlyStopping(monitor='val_loss', patience = 10, mode = 'min', restore_best_weights=True)\n",
    "\n",
    "history = model.fit_generator(data_generator.flow(train_X, train_Y, batch_size),\n",
    "                                steps_per_epoch=len(train_X) / batch_size,\n",
    "                                epochs=num_epochs,\n",
    "                                verbose=2, \n",
    "                                callbacks = [es],\n",
    "                                validation_data=(val_X, val_Y))"
   ]
  },
  {
   "cell_type": "code",
   "execution_count": 36,
   "id": "b3a313d3",
   "metadata": {},
   "outputs": [
    {
     "data": {
      "image/png": "[encoded data removed]",
      "text/plain": [
       "<Figure size 1296x432 with 2 Axes>"
      ]
     },
     "metadata": {
      "needs_background": "light"
     },
     "output_type": "display_data"
    }
   ],
   "source": [
    "#Visualize Training Performance\n",
    "fig, axes = plt.subplots(1,2, figsize=(18, 6))\n",
    "# Plot training & validation accuracy values\n",
    "axes[0].plot(history.history['accuracy'])\n",
    "axes[0].plot(history.history['val_accuracy'])\n",
    "axes[0].set_title('Model accuracy')\n",
    "axes[0].set_ylabel('Accuracy')\n",
    "axes[0].set_xlabel('Epoch')\n",
    "axes[0].legend(['Train', 'Validation'], loc='upper left')\n",
    "\n",
    "# Plot training & validation loss values\n",
    "axes[1].plot(history.history['loss'])\n",
    "axes[1].plot(history.history['val_loss'])\n",
    "axes[1].set_title('Model loss')\n",
    "axes[1].set_ylabel('Loss')\n",
    "axes[1].set_xlabel('Epoch')\n",
    "axes[1].legend(['Train', 'Validation'], loc='upper left')\n",
    "plt.show()"
   ]
  },
  {
   "cell_type": "code",
   "execution_count": 37,
   "id": "3294daa5",
   "metadata": {},
   "outputs": [
    {
     "name": "stdout",
     "output_type": "stream",
     "text": [
      "113/113 [==============================] - 5s 43ms/step\n",
      "CNN Model Accuracy on test set: 0.6386\n"
     ]
    }
   ],
   "source": [
    "#Evaluate Test Performance\n",
    "test_true = np.argmax(test_Y, axis=1)\n",
    "test_pred = np.argmax(model.predict(test_X), axis=1)\n",
    "print(\"CNN Model Accuracy on test set: {:.4f}\".format(accuracy_score(test_true, test_pred)))"
   ]
  },
  {
   "cell_type": "code",
   "execution_count": null,
   "id": "14805183",
   "metadata": {},
   "outputs": [],
   "source": []
  }
 ],
 "metadata": {
  "kernelspec": {
   "display_name": "Python 3 (ipykernel)",
   "language": "python",
   "name": "python3"
  },
  "language_info": {
   "codemirror_mode": {
    "name": "ipython",
    "version": 3
   },
   "file_extension": ".py",
   "mimetype": "text/x-python",
   "name": "python",
   "nbconvert_exporter": "python",
   "pygments_lexer": "ipython3",
   "version": "3.9.7"
  }
 },
 "nbformat": 4,
 "nbformat_minor": 5
}
